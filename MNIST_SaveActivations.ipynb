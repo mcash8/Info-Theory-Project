{
  "cells": [
    {
      "cell_type": "markdown",
      "metadata": {
        "id": "view-in-github",
        "colab_type": "text"
      },
      "source": [
        "<a href=\"https://colab.research.google.com/github/mcash8/Info-Theory-Project/blob/main/MNIST_SaveActivations.ipynb\" target=\"_parent\"><img src=\"https://colab.research.google.com/assets/colab-badge.svg\" alt=\"Open In Colab\"/></a>"
      ]
    },
    {
      "cell_type": "markdown",
      "source": [
        "#Save Action"
      ],
      "metadata": {
        "id": "Iz3fHY0ln2dt"
      }
    },
    {
      "cell_type": "code",
      "source": [
        "!pip install pathlib2"
      ],
      "metadata": {
        "id": "eWA4sc-BkXz6"
      },
      "execution_count": null,
      "outputs": []
    },
    {
      "cell_type": "code",
      "source": [
        "!pip install tensorflow==2.1.0"
      ],
      "metadata": {
        "id": "vWCEBozqUcC_"
      },
      "execution_count": 2,
      "outputs": []
    },
    {
      "cell_type": "code",
      "source": [
        "!pip install keras==2.3.1"
      ],
      "metadata": {
        "id": "Im-WInEyVAaD"
      },
      "execution_count": null,
      "outputs": []
    },
    {
      "cell_type": "code",
      "source": [
        "import keras\n",
        "import keras.backend as K\n",
        "import numpy as np\n",
        "import tensorflow as tf\n",
        "import tensorflow_datasets as tfds\n",
        "from tensorflow.keras.datasets import mnist\n",
        "import utils\n",
        "import loggingreporter \n"
      ],
      "metadata": {
        "id": "-8m6OwwXnUyL"
      },
      "execution_count": 6,
      "outputs": []
    },
    {
      "cell_type": "code",
      "execution_count": 11,
      "metadata": {
        "id": "ppBP2V40i25Q"
      },
      "outputs": [],
      "source": [
        "cfg = {}\n",
        "cfg['SGD_BATCHSIZE']    = 128\n",
        "cfg['SGD_LEARNINGRATE'] = 0.01\n",
        "cfg['NUM_EPOCHS']       = 100\n",
        "\n",
        "#cfg['ACTIVATION'] = 'relu'\n",
        "cfg['ACTIVATION'] = 'tanh'\n",
        "# How many hidden neurons to put into each of the layers\n",
        "cfg['LAYER_DIMS'] = [1024, 20, 20, 20]\n",
        "#cfg['LAYER_DIMS'] = [32, 28, 24, 20, 16, 12, 8, 8]\n",
        "#cfg['LAYER_DIMS'] = [128, 64, 32, 16, 16] # 0.967 w. 128\n",
        "#cfg['LAYER_DIMS'] = [20, 20, 20, 20, 20, 20] # 0.967 w. 128\n",
        "ARCH_NAME =  '-'.join(map(str,cfg['LAYER_DIMS']))\n",
        "trn, tst = utils.get_mnist()\n",
        "\n",
        "# Where to save activation and weights data\n",
        "cfg['SAVE_DIR'] = 'rawdata/' + cfg['ACTIVATION'] + '_' + ARCH_NAME "
      ]
    },
    {
      "cell_type": "code",
      "execution_count": null,
      "metadata": {
        "id": "GTSRXMYyi25Z"
      },
      "outputs": [],
      "source": [
        "input_layer  = keras.layers.Input((trn.X.shape[1],))\n",
        "clayer = input_layer\n",
        "for n in cfg['LAYER_DIMS']:\n",
        "    clayer = keras.layers.Dense(n, activation=cfg['ACTIVATION'])(clayer)\n",
        "output_layer = keras.layers.Dense(trn.nb_classes, activation='softmax')(clayer)\n",
        "\n",
        "model = keras.models.Model(inputs=input_layer, outputs=output_layer)\n",
        "optimizer = tf.keras.optimizers.SGD(lr=cfg['SGD_LEARNINGRATE'])\n",
        "\n",
        "model.compile(loss='categorical_crossentropy', optimizer=optimizer, metrics=['accuracy'])\n",
        "model.summary()"
      ]
    },
    {
      "cell_type": "code",
      "execution_count": null,
      "metadata": {
        "scrolled": false,
        "id": "rqH1ig0ii25a"
      },
      "outputs": [],
      "source": [
        "def do_report(epoch):\n",
        "    # Only log activity for some epochs.  Mainly this is to make things run faster.\n",
        "    if epoch < 20:       # Log for all first 20 epochs\n",
        "        return True\n",
        "    elif epoch < 100:    # Then for every 5th epoch\n",
        "        return (epoch % 5 == 0)\n",
        "    elif epoch < 200:    # Then every 10th\n",
        "        return (epoch % 10 == 0)\n",
        "    else:                # Then every 100th\n",
        "        return (epoch % 100 == 0)\n",
        "    \n",
        "reporter = loggingreporter.LoggingReporter(cfg=cfg, \n",
        "                                          trn=trn, \n",
        "                                          tst=tst, \n",
        "                                          do_save_func=do_report)\n",
        "r = model.fit(x=trn.X, y=trn.Y, \n",
        "              verbose    = 2, \n",
        "              batch_size = cfg['SGD_BATCHSIZE'],\n",
        "              epochs     = cfg['NUM_EPOCHS'],\n",
        "              # validation_data=(tst.X, tst.Y),\n",
        "              callbacks  = [reporter,])\n"
      ]
    },
    {
      "cell_type": "code",
      "source": [
        "!zip -r /content/rawdata.zip /content/rawdata/"
      ],
      "metadata": {
        "id": "Xuki1RNke5-r"
      },
      "execution_count": null,
      "outputs": []
    },
    {
      "cell_type": "markdown",
      "source": [
        "#Compute MI and Plot"
      ],
      "metadata": {
        "id": "GO7cm97JnzN2"
      }
    },
    {
      "cell_type": "code",
      "source": [
        "%load_ext autoreload\n",
        "%autoreload 2\n",
        "from __future__ import print_function\n",
        "import os\n",
        "import _pickle as cPickle\n",
        "from collections import defaultdict, OrderedDict\n",
        "\n",
        "import numpy as np\n",
        "import keras.backend as K\n",
        "\n",
        "import kde\n",
        "import simplebinmi\n",
        "\n",
        "import utils\n",
        "trn, tst = utils.get_mnist()\n",
        "\n",
        "# Which measure to plot\n",
        "infoplane_measure = 'upper'\n",
        "#infoplane_measure = 'bin'\n",
        "\n",
        "DO_SAVE        = False    # Whether to save plots or just show them\n",
        "DO_LOWER       = True    # (infoplane_measure == 'lower')   # Whether to compute lower bounds also\n",
        "DO_BINNED      = True    #(infoplane_measure == 'bin')     # Whether to compute MI estimates based on binning\n",
        "\n",
        "MAX_EPOCHS = 100    # Max number of epoch for which to compute mutual information measure\n",
        "# MAX_EPOCHS = 1000\n",
        "COLORBAR_MAX_EPOCHS = 100\n",
        "\n",
        "# Directories from which to load saved layer activity\n",
        "ARCH = '1024-20-20-20'\n",
        "#ARCH = '20-20-20-20-20-20'\n",
        "#ARCH = '32-28-24-20-16-12'\n",
        "#ARCH = '32-28-24-20-16-12-8-8'\n",
        "DIR_TEMPLATE = '%%s_%s'%ARCH\n",
        "\n",
        "# Functions to return upper and lower bounds on entropy of layer activity\n",
        "noise_variance = 1e-1                    # Added Gaussian noise variance\n",
        "Klayer_activity = K.placeholder(ndim=2)  # Keras placeholder \n",
        "entropy_func_upper = K.function([Klayer_activity,], [kde.entropy_estimator_kl(Klayer_activity, noise_variance),])\n",
        "entropy_func_lower = K.function([Klayer_activity,], [kde.entropy_estimator_bd(Klayer_activity, noise_variance),])\n",
        "\n",
        "\n",
        "# nats to bits conversion factor\n",
        "nats2bits = 1.0/np.log(2) \n",
        "\n",
        "\n",
        "# Save indexes of tests data for each of the output classes\n",
        "saved_labelixs = {}\n",
        "for i in range(10):\n",
        "    saved_labelixs[i] = tst.y == i\n",
        "\n",
        "labelprobs = np.mean(tst.Y, axis=0)"
      ],
      "metadata": {
        "colab": {
          "base_uri": "https://localhost:8080/"
        },
        "id": "sawSY8tqn1Bt",
        "outputId": "c9494c85-bd50-4840-9803-e1469dae52dc"
      },
      "execution_count": 21,
      "outputs": [
        {
          "output_type": "stream",
          "name": "stdout",
          "text": [
            "The autoreload extension is already loaded. To reload it, use:\n",
            "  %reload_ext autoreload\n"
          ]
        }
      ]
    },
    {
      "cell_type": "code",
      "source": [
        "PLOT_LAYERS    = None     # Which layers to plot.  If None, all saved layers are plotted \n",
        "\n",
        "# Data structure used to store results\n",
        "measures = OrderedDict()\n",
        "measures['relu'] = {}\n",
        "measures['tanh'] = {}"
      ],
      "metadata": {
        "id": "8zftKKXGn-c7"
      },
      "execution_count": 15,
      "outputs": []
    },
    {
      "cell_type": "code",
      "source": [
        "for activation in measures.keys():\n",
        "    cur_dir = 'rawdata/' + DIR_TEMPLATE % activation\n",
        "    if not os.path.exists(cur_dir):\n",
        "        print(\"Directory %s not found\" % cur_dir)\n",
        "        continue\n",
        "        \n",
        "    # Load files saved during each epoch, and compute MI measures of the activity in that epoch\n",
        "    print('*** Doing %s ***' % cur_dir)\n",
        "    for epochfile in sorted(os.listdir(cur_dir)):\n",
        "        if not epochfile.startswith('epoch'):\n",
        "            continue\n",
        "            \n",
        "        fname = cur_dir + \"/\" + epochfile\n",
        "        with open(fname, 'rb') as f:\n",
        "            d = cPickle.load(f)\n",
        "\n",
        "        epoch = d['epoch']\n",
        "        if epoch in measures[activation]: # Skip this epoch if its already been processed\n",
        "            continue                      # this is a trick to allow us to rerun this cell multiple times)\n",
        "            \n",
        "        if epoch > MAX_EPOCHS:\n",
        "            continue\n",
        "\n",
        "        print(\"Doing\", fname)\n",
        "        \n",
        "        num_layers = len(d['data']['activity_tst'])\n",
        "\n",
        "        if PLOT_LAYERS is None:\n",
        "            PLOT_LAYERS = []\n",
        "            for lndx in range(num_layers):\n",
        "                #if d['data']['activity_tst'][lndx].shape[1] < 200 and lndx != num_layers - 1:\n",
        "                PLOT_LAYERS.append(lndx)\n",
        "                \n",
        "        cepochdata = defaultdict(list)\n",
        "        for lndx in range(num_layers):\n",
        "            activity = d['data']['activity_tst'][lndx]\n",
        "\n",
        "            # Compute marginal entropies\n",
        "            h_upper = entropy_func_upper([activity,])[0]\n",
        "            if DO_LOWER:\n",
        "                h_lower = entropy_func_lower([activity,])[0]\n",
        "                \n",
        "            # Layer activity given input. This is simply the entropy of the Gaussian noise\n",
        "            hM_given_X = kde.kde_condentropy(activity, noise_variance)\n",
        "\n",
        "            # Compute conditional entropies of layer activity given output\n",
        "            hM_given_Y_upper=0.\n",
        "            for i in range(10):\n",
        "                hcond_upper = entropy_func_upper([activity[saved_labelixs[i],:],])[0]\n",
        "                hM_given_Y_upper += labelprobs[i] * hcond_upper\n",
        "                \n",
        "            if DO_LOWER:\n",
        "                hM_given_Y_lower=0.\n",
        "                for i in range(10):\n",
        "                    hcond_lower = entropy_func_lower([activity[saved_labelixs[i],:],])[0]\n",
        "                    hM_given_Y_lower += labelprobs[i] * hcond_lower\n",
        "                    \n",
        "                    \n",
        "            # # It's also possible to treat the last layer probabilistically. Here is the \n",
        "            # # code to do so. Should only be applied when lndx == num_layers - 1\n",
        "\n",
        "            # ps = activity.mean(axis=0)\n",
        "            # h_lower = h_upper = sum([-p*np.log(p) for p in ps if p != 0])\n",
        "\n",
        "            # x = -activity * np.log(activity)\n",
        "            # x[activity == 0] = 0.\n",
        "            # hM_given_X = np.mean(x.sum(axis=1))\n",
        "\n",
        "            # hM_given_Y=0.\n",
        "            # for i in range(10):\n",
        "            #     ixs = tst.y[::subsample] == i\n",
        "            #     ps = activity[ixs,:].mean(axis=0)\n",
        "            #     hcond = sum([-p*np.log(p) for p in ps if p != 0])\n",
        "            #     prob = np.mean(ixs)\n",
        "            #     hM_given_Y += l * hcond\n",
        "            # hM_given_Y_lower = hM_given_Y_upper = hM_given_Y\n",
        "            # del hM_given_Y\n",
        "                \n",
        "            cepochdata['MI_XM_upper'].append( nats2bits * (h_upper - hM_given_X) )\n",
        "            cepochdata['MI_YM_upper'].append( nats2bits * (h_upper - hM_given_Y_upper) )\n",
        "            cepochdata['H_M_upper'  ].append( nats2bits * h_upper )\n",
        "\n",
        "            pstr = 'upper: MI(X;M)=%0.3f, MI(Y;M)=%0.3f' % (cepochdata['MI_XM_upper'][-1], cepochdata['MI_YM_upper'][-1])\n",
        "            if DO_LOWER:  # Compute lower bounds\n",
        "                cepochdata['MI_XM_lower'].append( nats2bits * (h_lower - hM_given_X) )\n",
        "                cepochdata['MI_YM_lower'].append( nats2bits * (h_lower - hM_given_Y_lower) )\n",
        "                cepochdata['H_M_lower'  ].append( nats2bits * h_lower )\n",
        "                pstr += ' | lower: MI(X;M)=%0.3f, MI(Y;M)=%0.3f' % (cepochdata['MI_XM_lower'][-1], cepochdata['MI_YM_lower'][-1])\n",
        "\n",
        "            if DO_BINNED: # Compute binner estimates\n",
        "                binxm, binym = simplebinmi.bin_calc_information2(saved_labelixs, activity, 0.5)\n",
        "                cepochdata['MI_XM_bin'].append( nats2bits * binxm )\n",
        "                cepochdata['MI_YM_bin'].append( nats2bits * binym )\n",
        "                pstr += ' | bin: MI(X;M)=%0.3f, MI(Y;M)=%0.3f' % (cepochdata['MI_XM_bin'][-1], cepochdata['MI_YM_bin'][-1])\n",
        "            \n",
        "            print('- Layer %d %s' % (lndx, pstr) )\n",
        "\n",
        "        measures[activation][epoch] = cepochdata\n",
        "    "
      ],
      "metadata": {
        "id": "BwZG4_VGoO5k"
      },
      "execution_count": null,
      "outputs": []
    },
    {
      "cell_type": "code",
      "source": [
        "%matplotlib inline\n",
        "import matplotlib.pyplot as plt\n",
        "import matplotlib.gridspec as gridspec\n",
        "import seaborn as sns\n",
        "sns.set_style('darkgrid')\n",
        "\n",
        "\n",
        "#PLOT_LAYERS = [0,1,2,3,4] # [1,2,3]\n",
        "#PLOT_LAYERS = [0,1,2,3]\n",
        "#PLOT_LAYERS = [0,1,2,3]\n",
        "plt.figure(figsize=(8,8))\n",
        "gs = gridspec.GridSpec(4,2)\n",
        "for actndx, (activation, vals) in enumerate(measures.items()):\n",
        "    epochs = sorted(vals.keys())\n",
        "    if not len(epochs):\n",
        "        continue\n",
        "        \n",
        "    plt.subplot(gs[0,actndx])\n",
        "    for lndx, layerid in enumerate(PLOT_LAYERS):\n",
        "        xmvalsU = np.array([vals[epoch]['H_M_upper'][layerid] for epoch in epochs])\n",
        "        if DO_LOWER:\n",
        "            xmvalsL = np.array([vals[epoch]['H_M_lower'][layerid] for epoch in epochs])\n",
        "        plt.plot(epochs, xmvalsU, label='Layer %d'%layerid)\n",
        "        #plt.errorbar(epochs, (xmvalsL + xmvalsU)/2,xmvalsU - xmvalsL, label='Layer %d'%layerid)\n",
        "    plt.xscale('log')\n",
        "    plt.yscale('log')\n",
        "    plt.title(activation)\n",
        "    plt.ylabel('H(M)')\n",
        "    \n",
        "    plt.subplot(gs[1,actndx])\n",
        "    for lndx, layerid in enumerate(PLOT_LAYERS):\n",
        "        #for epoch in epochs:\n",
        "        #    print('her',epoch, measures[activation][epoch]['MI_XM_upper'])\n",
        "        xmvalsU = np.array([vals[epoch]['MI_XM_upper'][layerid] for epoch in epochs])\n",
        "        if DO_LOWER:\n",
        "            xmvalsL = np.array([vals[epoch]['MI_XM_lower'][layerid] for epoch in epochs])\n",
        "        plt.plot(epochs, xmvalsU, label='Layer %d'%layerid)\n",
        "        #plt.errorbar(epochs, (xmvalsL + xmvalsU)/2,xmvalsU - xmvalsL, label='Layer %d'%layerid)\n",
        "    plt.xscale('log')\n",
        "    plt.ylabel('I(X;M)')\n",
        "\n",
        "\n",
        "    plt.subplot(gs[2,actndx])\n",
        "    for lndx, layerid in enumerate(PLOT_LAYERS):\n",
        "        ymvalsU = np.array([vals[epoch]['MI_YM_upper'][layerid] for epoch in epochs])\n",
        "        if DO_LOWER:\n",
        "            ymvalsL = np.array([vals[epoch]['MI_YM_lower'][layerid] for epoch in epochs])\n",
        "        plt.plot(epochs, ymvalsU, label='Layer %d'%layerid)\n",
        "    plt.xscale('log')\n",
        "    plt.ylabel('MI(Y;M)')\n",
        "\n",
        "    if DO_BINNED:\n",
        "        plt.subplot(gs[3,actndx])\n",
        "        for lndx, layerid in enumerate(PLOT_LAYERS):\n",
        "            hbinnedvals = np.array([vals[epoch]['MI_XM_bin'][layerid] for epoch in epochs])\n",
        "            plt.semilogx(epochs, hbinnedvals, label='Layer %d'%layerid)\n",
        "        plt.xlabel('Epoch')\n",
        "        #plt.ylabel(\"H'(M)\")\n",
        "        plt.ylabel(\"I(X;M)bin\")\n",
        "        #plt.yscale('log')\n",
        "    \n",
        "    if actndx == 0:\n",
        "        plt.legend(loc='lower right')\n",
        "        \n",
        "plt.tight_layout()"
      ],
      "metadata": {
        "colab": {
          "base_uri": "https://localhost:8080/",
          "height": 585
        },
        "id": "ncMDjvyHoXZo",
        "outputId": "c9bb12f9-0b56-4c4d-a7ef-c56190d9a96e"
      },
      "execution_count": 17,
      "outputs": [
        {
          "output_type": "display_data",
          "data": {
            "text/plain": [
              "<Figure size 576x576 with 4 Axes>"
            ],
            "image/png": "[encoded data removed]"
          },
          "metadata": {}
        }
      ]
    },
    {
      "cell_type": "code",
      "source": [
        "max_epoch = max( (max(vals.keys()) if len(vals) else 0) for vals in measures.values())\n",
        "sm = plt.cm.ScalarMappable(cmap='gnuplot', norm=plt.Normalize(vmin=0, vmax=COLORBAR_MAX_EPOCHS))\n",
        "sm._A = []\n",
        "\n",
        "fig=plt.figure(figsize=(10,5))\n",
        "for actndx, (activation, vals) in enumerate(measures.items()):\n",
        "    epochs = sorted(vals.keys())\n",
        "    if not len(epochs):\n",
        "        continue\n",
        "    plt.subplot(1,2,actndx+1)    \n",
        "    for epoch in epochs:\n",
        "        c = sm.to_rgba(epoch)\n",
        "        xmvals = np.array(vals[epoch]['MI_XM_'+infoplane_measure])[PLOT_LAYERS]\n",
        "        ymvals = np.array(vals[epoch]['MI_YM_'+infoplane_measure])[PLOT_LAYERS]\n",
        "\n",
        "        plt.plot(xmvals, ymvals, c=c, alpha=0.1, zorder=1)\n",
        "        plt.scatter(xmvals, ymvals, s=20, facecolors=[c for _ in PLOT_LAYERS], edgecolor='none', zorder=2)\n",
        "    \n",
        "    plt.ylim([0, 3.5])\n",
        "    plt.xlim([0, 14])\n",
        "    plt.xlabel('I(X;M)')\n",
        "    plt.ylabel('I(Y;M)')\n",
        "    plt.title('MNIST E2E Training')\n",
        "    \n",
        "cbaxes = fig.add_axes([1.0, 0.125, 0.03, 0.8]) \n",
        "plt.colorbar(sm, label='Epoch', cax=cbaxes)\n",
        "plt.tight_layout()\n",
        "\n",
        "if DO_SAVE:\n",
        "    plt.savefig('plots/' + DIR_TEMPLATE % ('infoplane_'+ARCH),bbox_inches='tight')\n",
        "    \n",
        "    \n",
        "    "
      ],
      "metadata": {
        "colab": {
          "base_uri": "https://localhost:8080/",
          "height": 406
        },
        "id": "hTFmZQDKoaxA",
        "outputId": "d60d69d1-29df-404d-ea26-762c9811e4f9"
      },
      "execution_count": 23,
      "outputs": [
        {
          "output_type": "stream",
          "name": "stderr",
          "text": [
            "/usr/local/lib/python3.7/dist-packages/ipykernel_launcher.py:27: UserWarning: This figure includes Axes that are not compatible with tight_layout, so results might be incorrect.\n"
          ]
        },
        {
          "output_type": "display_data",
          "data": {
            "text/plain": [
              "<Figure size 720x360 with 2 Axes>"
            ],
            "image/png": "[encoded data removed]"
          },
          "metadata": {}
        }
      ]
    },
    {
      "cell_type": "code",
      "source": [
        ""
      ],
      "metadata": {
        "id": "PZkv-UqRocy5"
      },
      "execution_count": null,
      "outputs": []
    }
  ],
  "metadata": {
    "interpreter": {
      "hash": "38f08eb45a74f8167b697f9534a4824a91b3f4ba83c913bdbd1160c52be203bb"
    },
    "kernelspec": {
      "display_name": "Python 2",
      "language": "python",
      "name": "python3"
    },
    "language_info": {
      "codemirror_mode": {
        "name": "ipython",
        "version": 2
      },
      "file_extension": ".py",
      "mimetype": "text/x-python",
      "name": "python",
      "nbconvert_exporter": "python",
      "pygments_lexer": "ipython2",
      "version": "3.10.4"
    },
    "colab": {
      "name": "MNIST_SaveActivations.ipynb",
      "provenance": [],
      "collapsed_sections": [],
      "include_colab_link": true
    }
  },
  "nbformat": 4,
  "nbformat_minor": 0
}