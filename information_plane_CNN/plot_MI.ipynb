{
  "cells": [
    {
      "cell_type": "markdown",
      "metadata": {
        "id": "view-in-github",
        "colab_type": "text"
      },
      "source": [
        "<a href=\"https://colab.research.google.com/github/mcash8/Info-Theory-Project/blob/main/information_plane_CNN/plot_MI.ipynb\" target=\"_parent\"><img src=\"https://colab.research.google.com/assets/colab-badge.svg\" alt=\"Open In Colab\"/></a>"
      ]
    },
    {
      "cell_type": "code",
      "source": [
        "!pip uninstall tensorflow"
      ],
      "metadata": {
        "id": "LKSlfgBD9pp8"
      },
      "execution_count": null,
      "outputs": []
    },
    {
      "cell_type": "code",
      "source": [
        "!pip install tensorflow==1.13.2"
      ],
      "metadata": {
        "id": "CWFlZNN29yiI"
      },
      "execution_count": null,
      "outputs": []
    },
    {
      "cell_type": "code",
      "source": [
        "!pip install pandas"
      ],
      "metadata": {
        "id": "IiGiskKtLNn0",
        "outputId": "c9d70cfa-1adb-4f01-c1e1-c34558a17a85",
        "colab": {
          "base_uri": "https://localhost:8080/",
          "height": 259
        }
      },
      "execution_count": 24,
      "outputs": [
        {
          "output_type": "stream",
          "name": "stdout",
          "text": [
            "Collecting pandas\n",
            "  Downloading pandas-1.3.5-cp37-cp37m-manylinux_2_17_x86_64.manylinux2014_x86_64.whl (11.3 MB)\n",
            "\u001b[K     |████████████████████████████████| 11.3 MB 4.0 MB/s \n",
            "\u001b[?25hRequirement already satisfied: numpy>=1.17.3 in /usr/local/lib/python3.7/dist-packages (from pandas) (1.21.5)\n",
            "Requirement already satisfied: python-dateutil>=2.7.3 in /usr/local/lib/python3.7/dist-packages (from pandas) (2.8.2)\n",
            "Requirement already satisfied: pytz>=2017.3 in /usr/local/lib/python3.7/dist-packages (from pandas) (2018.9)\n",
            "Requirement already satisfied: six>=1.5 in /usr/local/lib/python3.7/dist-packages (from python-dateutil>=2.7.3->pandas) (1.15.0)\n",
            "Installing collected packages: pandas\n",
            "Successfully installed pandas-1.3.5\n"
          ]
        },
        {
          "output_type": "display_data",
          "data": {
            "application/vnd.colab-display-data+json": {
              "pip_warning": {
                "packages": [
                  "pandas"
                ]
              }
            }
          },
          "metadata": {}
        }
      ]
    },
    {
      "cell_type": "code",
      "source": [
        "!python main.py"
      ],
      "metadata": {
        "id": "llraEqIU8-yQ"
      },
      "execution_count": null,
      "outputs": []
    },
    {
      "cell_type": "code",
      "execution_count": 1,
      "metadata": {
        "id": "T2ccx9ua5SIU",
        "outputId": "96da766f-ba88-458b-edc6-f754ab14e42e",
        "colab": {
          "base_uri": "https://localhost:8080/"
        }
      },
      "outputs": [
        {
          "output_type": "stream",
          "name": "stdout",
          "text": [
            "(23, 2, 112, 4)\n"
          ]
        }
      ],
      "source": [
        "import numpy as np\n",
        "a = np.load('mi_all.npy')\n",
        "print(a.shape)\n"
      ]
    },
    {
      "cell_type": "code",
      "execution_count": null,
      "metadata": {
        "id": "ev_EMQn45SIY"
      },
      "outputs": [],
      "source": [
        "mi_xt_mean = np.mean(a,0)[0]\n",
        "mi_ty_mean = np.mean(a,0)[1]\n",
        "#mi_xt_mean = a[0,0,:,:]\n",
        "#mi_ty_mean = a[0,1,:,:]\n",
        "print(mi_xt_mean.shape)\n",
        "print(mi_xt_mean)\n",
        "print(mi_ty_mean)"
      ]
    },
    {
      "cell_type": "code",
      "execution_count": 3,
      "metadata": {
        "id": "KuQD_nKY5SIZ",
        "outputId": "714d341c-51b8-4439-c93e-70c3bd411951",
        "colab": {
          "base_uri": "https://localhost:8080/"
        }
      },
      "outputs": [
        {
          "output_type": "stream",
          "name": "stdout",
          "text": [
            "(38, 4)\n"
          ]
        }
      ],
      "source": [
        "IXM_N = mi_xt_mean[0,:]\n",
        "IYM_N = mi_ty_mean[0,:]\n",
        "\n",
        "T =1\n",
        "\n",
        "for i in range(1,mi_xt_mean.shape[0]):\n",
        "    \n",
        "    A_ = i <= 4 and i % 1 == 0  \n",
        "    A0 = i > 4 and i <= 10 and i % 2 == 0    \n",
        "    A1 = i > 10 and i <= 30 and i % 3 == 0     \n",
        "    A2 = i > 30 and i % 3 == 0    \n",
        "\n",
        "    #if A0 or A1 or A2:\n",
        "    if  A0 or A1 or A2:\n",
        "        mean_vec_xt = np.mean(mi_xt_mean[T:i+1,:],axis=0)\n",
        "        mean_vec_yt = np.mean(mi_ty_mean[T:i+1,:],axis=0)  \n",
        "                             \n",
        "        #print(T,i+1)                      \n",
        "        IXM_N = np.append(IXM_N,mean_vec_xt)\n",
        "        IYM_N = np.append(IYM_N,mean_vec_yt)\n",
        "        \n",
        "        T = i+1\n",
        "\n",
        "        \n",
        "IXM_N = np.reshape(IXM_N,(-1,4))\n",
        "IYM_N = np.reshape(IYM_N,(-1,4))\n",
        "print(IXM_N.shape)"
      ]
    },
    {
      "cell_type": "code",
      "execution_count": 4,
      "metadata": {
        "id": "HbcU0quQ5SIc",
        "outputId": "5fa28490-524d-40d1-8548-22071e405778",
        "colab": {
          "base_uri": "https://localhost:8080/"
        }
      },
      "outputs": [
        {
          "output_type": "stream",
          "name": "stdout",
          "text": [
            "3.2287541301857177\n"
          ]
        }
      ],
      "source": [
        "print(a[-2,1,-1,-1])"
      ]
    },
    {
      "cell_type": "code",
      "execution_count": null,
      "metadata": {
        "id": "wQvgaCtS5SIc"
      },
      "outputs": [],
      "source": [
        "#mi_ty_mean[0:10,3]=np.array(mi_ty_mean[0:10,3])\n",
        "IXM_N, IYM_N = mi_ty_mean, mi_ty_mean\n",
        "print(IXM_N.shape)\n",
        "print(IYM_N.shape)"
      ]
    },
    {
      "cell_type": "code",
      "execution_count": 39,
      "metadata": {
        "id": "ste0IvE65SId",
        "outputId": "3726ba1f-6a65-4324-c804-f8b7a075a5bf",
        "colab": {
          "base_uri": "https://localhost:8080/"
        }
      },
      "outputs": [
        {
          "output_type": "stream",
          "name": "stdout",
          "text": [
            "(110, 4)\n",
            "(110, 4)\n"
          ]
        }
      ],
      "source": [
        "import pandas as pd\n",
        "T=3\n",
        "IXM_N, IYM_N = np.zeros((mi_xt_mean.shape[0]-T+1,4)), np.zeros((mi_ty_mean.shape[0]-T+1,4))\n",
        "\n",
        "\n",
        "\n",
        "for i in range(4):\n",
        "    df_xt = pd.DataFrame(mi_xt_mean[:,i], columns=['bleh'])\n",
        "    df_yt = pd.DataFrame(mi_ty_mean[:,i], columns=['bleh'])\n",
        "    IXM_N[:,i] = df_xt['bleh'].rolling(T).mean()[T-1:]\n",
        "    IYM_N[:,i] = df_yt['bleh'].rolling(T).mean()[T-1:]\n",
        "    \n",
        "    #IXM_N[:,i]=pd.rolling_mean(mi_xt_mean[:,i],T)[T-1:]\n",
        "    #IYM_N[:,i]=pd.rolling_mean(mi_ty_mean[:,i],T)[T-1:]\n",
        "    \n",
        "print(IXM_N.shape)\n",
        "print(IYM_N.shape)"
      ]
    },
    {
      "cell_type": "code",
      "execution_count": 44,
      "metadata": {
        "id": "vgZ0WkMV5SIf",
        "outputId": "22089383-4ef7-48db-8f92-c4b544663754",
        "colab": {
          "base_uri": "https://localhost:8080/",
          "height": 386
        }
      },
      "outputs": [
        {
          "output_type": "display_data",
          "data": {
            "text/plain": [
              "<Figure size 576x576 with 0 Axes>"
            ]
          },
          "metadata": {}
        },
        {
          "output_type": "display_data",
          "data": {
            "text/plain": [
              "<Figure size 720x360 with 2 Axes>"
            ],
            "image/png": "[encoded data removed]"
          },
          "metadata": {}
        }
      ],
      "source": [
        "# Plot like Tishby\n",
        "\n",
        "#matplotlib inline\n",
        "import matplotlib\n",
        "#%matplotlib tk\n",
        "#matplotlib.use('TkAgg')\n",
        "\n",
        "import matplotlib.pyplot as plt\n",
        "import matplotlib.gridspec as gridspec\n",
        "import seaborn as sns\n",
        "sns.set_style('darkgrid')\n",
        "\n",
        "\n",
        "plt.figure(figsize=(8,8))\n",
        "gs = gridspec.GridSpec(4,2)\n",
        "#for actndx, (activation, vals) in enumerate(measures.items()):\n",
        "#    epochs = sorted(vals.keys())\n",
        "#    if not len(epochs):\n",
        "#        continue\n",
        "\n",
        "COLORBAR_MAX_EPOCHS=15000\n",
        "\n",
        "plt.tight_layout()        \n",
        "\n",
        "fig=plt.figure(figsize=(10,5))\n",
        "\n",
        "#max_epoch = max( (max(vals.keys()) if len(vals) else 0) for vals in measures.values())\n",
        "sm = plt.cm.ScalarMappable(cmap='gnuplot', norm=plt.Normalize(vmin=0, vmax=COLORBAR_MAX_EPOCHS))\n",
        "sm._A = []\n",
        "\n",
        "#fig=plt.figure(figsize=(10,5))\n",
        "#for actndx, (activation, vals) in enumerate(measures.items()):\n",
        "#    epochs = sorted(vals.keys())\n",
        "#    if not len(epochs):\n",
        "#        continue\n",
        "#    plt.subplot(1,2,actndx+1)    \n",
        "    \n",
        "    \n",
        "#n_epoch = mi_xt_mean.shape[0]\n",
        "n_epoch = IXM_N.shape[0]\n",
        "\n",
        "PLOT_LAYERS = [0]\n",
        "for epoch in range(0,n_epoch):\n",
        "    c = sm.to_rgba(220*(epoch))\n",
        "    #xmvals = np.array(vals[epoch]['MI_XM'])[PLOT_LAYERS]\n",
        "    #ymvals = np.array(vals[epoch]['MI_YM'])[PLOT_LAYERS]\n",
        "\n",
        "    #xmvals = mi_xt_mean[epoch] \n",
        "    #ymvals = mi_ty_mean[epoch]\n",
        "    xmvals = IXM_N[epoch] \n",
        "    ymvals = IYM_N[epoch]\n",
        "    \n",
        "    plt.plot(xmvals, ymvals, c=c, alpha=0.1, zorder=1)\n",
        "    plt.scatter(xmvals, ymvals, s=40, facecolors=[c for _ in PLOT_LAYERS], edgecolor='none', zorder=2)\n",
        "    \n",
        "plt.ylim([1, 3.5])\n",
        "plt.xlim([4, 14])\n",
        "plt.xlabel('I(X;M)')\n",
        "plt.ylabel('I(Y;M)')\n",
        "plt.title('Tanh')\n",
        "    \n",
        "# colorbar\n",
        "  \n",
        "#cbaxes = fig.add_axes([1.0, 0.125, 0.03, 0.8]) \n",
        "#plt.colorbar(sm, label='Epoch', cax=cbaxes)\n",
        "plt.colorbar(sm, label='Epoch')\n",
        "\n",
        "\n",
        "plt.tight_layout()\n",
        "\n",
        "plt.show()"
      ]
    },
    {
      "cell_type": "code",
      "execution_count": null,
      "metadata": {
        "id": "1wcxypVM5SIg"
      },
      "outputs": [],
      "source": [
        ""
      ]
    },
    {
      "cell_type": "code",
      "execution_count": null,
      "metadata": {
        "id": "spWWu0c65SIh"
      },
      "outputs": [],
      "source": [
        ""
      ]
    }
  ],
  "metadata": {
    "kernelspec": {
      "display_name": "Python 3",
      "language": "python",
      "name": "python3"
    },
    "language_info": {
      "codemirror_mode": {
        "name": "ipython",
        "version": 3
      },
      "file_extension": ".py",
      "mimetype": "text/x-python",
      "name": "python",
      "nbconvert_exporter": "python",
      "pygments_lexer": "ipython3",
      "version": "3.6.4"
    },
    "colab": {
      "name": "plot_MI.ipynb",
      "provenance": [],
      "include_colab_link": true
    }
  },
  "nbformat": 4,
  "nbformat_minor": 0
}